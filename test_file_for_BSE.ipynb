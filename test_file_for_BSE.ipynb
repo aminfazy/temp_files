{
  "nbformat": 4,
  "nbformat_minor": 0,
  "metadata": {
    "colab": {
      "name": "Untitled1.ipynb",
      "provenance": [],
      "authorship_tag": "ABX9TyMqWBncA/VrQBC5VskxbJD/",
      "include_colab_link": true
    },
    "kernelspec": {
      "name": "python3",
      "display_name": "Python 3"
    }
  },
  "cells": [
    {
      "cell_type": "markdown",
      "metadata": {
        "id": "view-in-github",
        "colab_type": "text"
      },
      "source": [
        "<a href=\"https://colab.research.google.com/github/aminfazy/temp_files/blob/master/test_file_for_BSE.ipynb\" target=\"_parent\"><img src=\"https://colab.research.google.com/assets/colab-badge.svg\" alt=\"Open In Colab\"/></a>"
      ]
    },
    {
      "cell_type": "markdown",
      "metadata": {
        "id": "ZwBjFiEUgcMM",
        "colab_type": "text"
      },
      "source": [
        "This is a test Lab\n"
      ]
    },
    {
      "cell_type": "code",
      "metadata": {
        "id": "zyia00F0gTFI",
        "colab_type": "code",
        "colab": {}
      },
      "source": [
        "import numpy as np\n"
      ],
      "execution_count": 0,
      "outputs": []
    },
    {
      "cell_type": "code",
      "metadata": {
        "id": "PPxP80LgjpiB",
        "colab_type": "code",
        "colab": {
          "base_uri": "https://localhost:8080/",
          "height": 35
        },
        "outputId": "246cd9b7-f5db-4c17-c16d-c83a4a573958"
      },
      "source": [
        "a=np.array([2,2,2,3])\n",
        "print(a)"
      ],
      "execution_count": 4,
      "outputs": [
        {
          "output_type": "stream",
          "text": [
            "[2 2 2 3]\n"
          ],
          "name": "stdout"
        }
      ]
    }
  ]
}